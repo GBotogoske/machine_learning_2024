{
 "cells": [
  {
   "cell_type": "code",
   "execution_count": 1,
   "metadata": {},
   "outputs": [
    {
     "name": "stderr",
     "output_type": "stream",
     "text": [
      "2024-09-18 10:19:20.612872: I tensorflow/core/util/port.cc:153] oneDNN custom operations are on. You may see slightly different numerical results due to floating-point round-off errors from different computation orders. To turn them off, set the environment variable `TF_ENABLE_ONEDNN_OPTS=0`.\n",
      "2024-09-18 10:19:20.613288: I external/local_xla/xla/tsl/cuda/cudart_stub.cc:32] Could not find cuda drivers on your machine, GPU will not be used.\n",
      "2024-09-18 10:19:20.620353: I external/local_xla/xla/tsl/cuda/cudart_stub.cc:32] Could not find cuda drivers on your machine, GPU will not be used.\n",
      "2024-09-18 10:19:20.680730: I tensorflow/core/platform/cpu_feature_guard.cc:210] This TensorFlow binary is optimized to use available CPU instructions in performance-critical operations.\n",
      "To enable the following instructions: AVX2 AVX_VNNI FMA, in other operations, rebuild TensorFlow with the appropriate compiler flags.\n",
      "2024-09-18 10:19:22.316890: W tensorflow/compiler/tf2tensorrt/utils/py_utils.cc:38] TF-TRT Warning: Could not find TensorRT\n"
     ]
    }
   ],
   "source": [
    "import ROOT\n",
    "import matplotlib.pyplot as plt\n",
    "import numpy as np\n",
    "import keras\n"
   ]
  },
  {
   "cell_type": "code",
   "execution_count": 3,
   "metadata": {},
   "outputs": [],
   "source": [
    "#vamos abrir os arquivos root\n",
    "nome1=\"vhcc_tree.root\"\n",
    "nome2=\"dyll-nlo_tree.root\"\n",
    "file1= ROOT.TFile.Open( nome1 , \"READ\" )\n",
    "file2= ROOT.TFile.Open( nome2, \"READ\" )"
   ]
  },
  {
   "cell_type": "code",
   "execution_count": 5,
   "metadata": {},
   "outputs": [],
   "source": [
    "#vamos pegar a TTree\n",
    "tree1 = file1.Get(\"Events\")\n",
    "tree2 = file2.Get(\"Events\")"
   ]
  },
  {
   "cell_type": "code",
   "execution_count": 47,
   "metadata": {},
   "outputs": [
    {
     "ename": "NameError",
     "evalue": "name 'Data' is not defined",
     "output_type": "error",
     "traceback": [
      "\u001b[0;31m---------------------------------------------------------------------------\u001b[0m",
      "\u001b[0;31mNameError\u001b[0m                                 Traceback (most recent call last)",
      "Cell \u001b[0;32mIn[47], line 8\u001b[0m\n\u001b[1;32m      2\u001b[0m n_max_1\u001b[38;5;241m=\u001b[39mtree1\u001b[38;5;241m.\u001b[39mGetEntries()\n\u001b[1;32m      4\u001b[0m \u001b[38;5;28;01mimport\u001b[39;00m \u001b[38;5;21;01mdata_classes\u001b[39;00m\n\u001b[0;32m----> 8\u001b[0m data_1\u001b[38;5;241m=\u001b[39m\u001b[43mData\u001b[49m()\n\u001b[1;32m      9\u001b[0m data_2\u001b[38;5;241m=\u001b[39mData()\n\u001b[1;32m     11\u001b[0m \u001b[38;5;124;03m\"\"\" for entryNum in range (0 ,n_max_1):\u001b[39;00m\n\u001b[1;32m     12\u001b[0m \u001b[38;5;124;03m    tree1.GetEntry( entryNum )\u001b[39;00m\n\u001b[1;32m     13\u001b[0m \u001b[38;5;124;03m    data_1[\"ak15_regressed_mass\"].append(getattr(tree1, \"ak15_regressed_mass\"))\u001b[39;00m\n\u001b[0;32m   (...)\u001b[0m\n\u001b[1;32m     19\u001b[0m \u001b[38;5;124;03m    tree2.GetEntry( entryNum )\u001b[39;00m\n\u001b[1;32m     20\u001b[0m \u001b[38;5;124;03m    data_2[\"ak15_regressed_mass\"].append(getattr(tree2, \"ak15_regressed_mass\"))     \"\"\"\u001b[39;00m\n",
      "\u001b[0;31mNameError\u001b[0m: name 'Data' is not defined"
     ]
    }
   ],
   "source": [
    "#coletando os dados\n",
    "n_max_1=tree1.GetEntries()\n",
    "\n",
    "import data_classes\n",
    "\n",
    "\n",
    "\n",
    "data_1=Data()\n",
    "data_2=Data()\n",
    "\n",
    "\"\"\" for entryNum in range (0 ,n_max_1):\n",
    "    tree1.GetEntry( entryNum )\n",
    "    data_1[\"ak15_regressed_mass\"].append(getattr(tree1, \"ak15_regressed_mass\"))\n",
    "\n",
    "n_max_2=tree2.GetEntries()\n",
    "ak15_regressed_mass_2=[]\n",
    "\n",
    "for entryNum in range (0 ,n_max_2):\n",
    "    tree2.GetEntry( entryNum )\n",
    "    data_2[\"ak15_regressed_mass\"].append(getattr(tree2, \"ak15_regressed_mass\"))     \"\"\""
   ]
  },
  {
   "cell_type": "code",
   "execution_count": 7,
   "metadata": {},
   "outputs": [
    {
     "data": {
      "image/png": "[encoded data removed]",
      "text/plain": [
       "<Figure size 640x480 with 1 Axes>"
      ]
     },
     "metadata": {},
     "output_type": "display_data"
    }
   ],
   "source": [
    "plt.hist( data_1[\"ak15_regressed_mass\"],bins=100,fill=False, histtype='step', label=\"higgs data\")\n",
    "plt.hist( data_2[\"ak15_regressed_mass\"][:n_max_1],bins=100, fill=False, histtype='step', label=\"background data\")\n",
    "plt.legend()\n",
    "\n",
    "plt.draw()"
   ]
  },
  {
   "cell_type": "code",
   "execution_count": 43,
   "metadata": {},
   "outputs": [
    {
     "data": {
      "text/plain": [
       "' cont1=0\\ncont2=0\\n\\nfor cont in range(n_max_1):\\n '"
      ]
     },
     "execution_count": 43,
     "metadata": {},
     "output_type": "execute_result"
    }
   ],
   "source": [
    "data={\"ak15_regressed_mass\":[], \"truth\":[] }\n",
    "\n",
    "random1=np.random.choice(n_max_1,n_max_1,replace=False) #inteiros ate o primeiro numero. Numero de eventos sorteados igual ao segundo numero\n",
    "random2=np.random.choice(n_max_2,n_max_1,replace=False)\n",
    "random_position=np.random.choice(n_max_1,int(n_max_1/2),replace=False)\n",
    "\n",
    "is_here=np.zeros(n_max_1)\n",
    "is_here[random_position] = 1\n",
    "\n",
    "\n",
    "cont1=0\n",
    "cont2=0\n",
    "\n",
    "for cont in range(n_max_1):\n",
    "    if is_here[cont]==0:\n",
    "        data[append()\n",
    "\n"
   ]
  },
  {
   "cell_type": "code",
   "execution_count": 46,
   "metadata": {},
   "outputs": [
    {
     "data": {
      "text/plain": [
       "166125.0"
      ]
     },
     "execution_count": 46,
     "metadata": {},
     "output_type": "execute_result"
    }
   ],
   "source": [
    "len(is_here)/2"
   ]
  }
 ],
 "metadata": {
  "kernelspec": {
   "display_name": "Python 3",
   "language": "python",
   "name": "python3"
  },
  "language_info": {
   "codemirror_mode": {
    "name": "ipython",
    "version": 3
   },
   "file_extension": ".py",
   "mimetype": "text/x-python",
   "name": "python",
   "nbconvert_exporter": "python",
   "pygments_lexer": "ipython3",
   "version": "3.12.3"
  }
 },
 "nbformat": 4,
 "nbformat_minor": 2
}
