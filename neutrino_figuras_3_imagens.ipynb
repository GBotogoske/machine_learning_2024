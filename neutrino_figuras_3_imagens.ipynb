{
 "cells": [
  {
   "cell_type": "code",
   "execution_count": 2,
   "metadata": {},
   "outputs": [
    {
     "name": "stderr",
     "output_type": "stream",
     "text": [
      "2024-10-17 10:25:00.253401: I tensorflow/core/util/port.cc:153] oneDNN custom operations are on. You may see slightly different numerical results due to floating-point round-off errors from different computation orders. To turn them off, set the environment variable `TF_ENABLE_ONEDNN_OPTS=0`.\n",
      "2024-10-17 10:25:00.261723: I external/local_xla/xla/tsl/cuda/cudart_stub.cc:32] Could not find cuda drivers on your machine, GPU will not be used.\n",
      "2024-10-17 10:25:00.327507: I external/local_xla/xla/tsl/cuda/cudart_stub.cc:32] Could not find cuda drivers on your machine, GPU will not be used.\n",
      "2024-10-17 10:25:00.376071: E external/local_xla/xla/stream_executor/cuda/cuda_fft.cc:485] Unable to register cuFFT factory: Attempting to register factory for plugin cuFFT when one has already been registered\n",
      "2024-10-17 10:25:00.426371: E external/local_xla/xla/stream_executor/cuda/cuda_dnn.cc:8454] Unable to register cuDNN factory: Attempting to register factory for plugin cuDNN when one has already been registered\n",
      "2024-10-17 10:25:00.438036: E external/local_xla/xla/stream_executor/cuda/cuda_blas.cc:1452] Unable to register cuBLAS factory: Attempting to register factory for plugin cuBLAS when one has already been registered\n",
      "2024-10-17 10:25:00.511667: I tensorflow/core/platform/cpu_feature_guard.cc:210] This TensorFlow binary is optimized to use available CPU instructions in performance-critical operations.\n",
      "To enable the following instructions: AVX2 AVX_VNNI FMA, in other operations, rebuild TensorFlow with the appropriate compiler flags.\n",
      "2024-10-17 10:25:01.596374: W tensorflow/compiler/tf2tensorrt/utils/py_utils.cc:38] TF-TRT Warning: Could not find TensorRT\n"
     ]
    }
   ],
   "source": [
    "from PIL import Image\n",
    "import numpy as np\n",
    "import matplotlib.pyplot as plt\n",
    "import os\n",
    "from sklearn.model_selection import train_test_split\n",
    "import tensorflow as tf\n",
    "from tensorflow.keras import datasets, layers, models\n",
    "from scipy.ndimage import grey_dilation"
   ]
  },
  {
   "cell_type": "code",
   "execution_count": 3,
   "metadata": {},
   "outputs": [],
   "source": [
    "#vamos aprende ler uma colecao de figuras\n",
    "\n",
    "#Listar arquivos .png na pasta atual\n",
    "current_directory = os.getcwd()+\"/figuras/\"\n",
    "\n",
    "event_files=[[f for f in os.listdir(current_directory) if (f.endswith('.png') and (\"event\" in f) and (\"nue\" in f) and (\"plane_\"+str(i) in f))]\n",
    "              for i in range(3)]\n",
    "for i in range(3):\n",
    "    event_files[i]=sorted(event_files[i])\n",
    "\n",
    "hit_files=[[f for f in os.listdir(current_directory) if (f.endswith('.png') and (\"hit\" in f) and (\"nue\" in f) and (\"plane_\"+str(i) in f))]\n",
    "              for i in range(3)]\n",
    "for i in range(3):\n",
    "    hit_files[i]=sorted(hit_files[i])"
   ]
  },
  {
   "cell_type": "code",
   "execution_count": 4,
   "metadata": {},
   "outputs": [],
   "source": [
    "#selecionando figuras aleatorias\n",
    "\n",
    "n_figuras=1000\n",
    "n_total=len(event_files[0])\n",
    "\n",
    "random=np.random.choice(n_total,n_figuras,replace=False)\n",
    "\n",
    "x=[[] for _ in range(n_figuras)]\n",
    "y=[[] for _ in range(n_figuras)]\n",
    "\n",
    "x_end=272 # <--271\n",
    "y_end=608 # <--610 \n",
    "\n",
    "structure = np.ones((3, 3), dtype=np.uint8)  # Elemento estruturante 3x3\n",
    "\n",
    "for j in range(n_figuras):\n",
    "    for index in range(3):\n",
    "        x[j].append(np.divide(grey_dilation(np.array(Image.open(current_directory+event_files[index][random[j]]).convert('L'), dtype=np.uint8),footprint=structure),215))\n",
    "        y[j].append(np.divide(np.array(Image.open(current_directory+hit_files[index][random[j]]).convert('L')),215))"
   ]
  },
  {
   "cell_type": "code",
   "execution_count": 5,
   "metadata": {},
   "outputs": [],
   "source": [
    "#deixando a saida binaria\n",
    "for j in range(n_figuras):\n",
    "    for i in range(3):\n",
    "        y[j][i][(y[j][i] > 0.7)] = 1\n",
    "        y[j][i][~((y[j][i] > 0.7) )] = 0 "
   ]
  },
  {
   "cell_type": "code",
   "execution_count": 6,
   "metadata": {},
   "outputs": [],
   "source": [
    "#arrumando as dimennsoes da terceira imagem\n",
    "\n",
    "from scipy.ndimage import zoom\n",
    "new_matrix = np.zeros((271, 610))\n",
    "for j in range(n_figuras):\n",
    "    for index in range(3):\n",
    "        x[j][index]=zoom(x[j][index],(x_end/len(x[j][index]),y_end/len(x[j][index][0])))\n",
    "        y[j][index]=zoom(y[j][index],(x_end/len(y[j][index]),y_end/len(y[j][index][0])))\n",
    "\n",
    "#deixando a saida binaria\n",
    "for j in range(n_figuras):\n",
    "    for index in range(3):\n",
    "        y[j][index][(y[j][index] > 0.5)] = 1\n",
    "        y[j][index][~((y[j][index] > 0.5) )] = 0 \n"
   ]
  },
  {
   "cell_type": "code",
   "execution_count": 7,
   "metadata": {},
   "outputs": [],
   "source": [
    "#separando em treino e teste dados\n",
    "\n",
    "x_train,x_test,y_train,y_test = train_test_split(x,y,random_state=42)\n",
    "y=[]\n",
    "x=[]\n",
    "#x_train,x_test,y_train,y_test = train_test_split(x,x_teste,random_state=42)\n",
    "x_train=np.array(x_train)\n",
    "x_test=np.array(x_test)\n",
    "y_train=np.array(y_train)\n",
    "y_test=np.array(y_test)\n"
   ]
  },
  {
   "cell_type": "code",
   "execution_count": 8,
   "metadata": {},
   "outputs": [],
   "source": [
    "x_train = x_train.reshape((-1, 3, x_end,y_end))\n",
    "x_test = x_test.reshape((-1, 3, x_end,y_end))\n",
    "y_train = y_train.reshape((-1, 3, x_end,y_end))\n",
    "y_test = y_test.reshape((-1, 3, x_end,y_end))"
   ]
  },
  {
   "cell_type": "code",
   "execution_count": 9,
   "metadata": {},
   "outputs": [
    {
     "name": "stderr",
     "output_type": "stream",
     "text": [
      "/home/gabriel/.local/lib/python3.12/site-packages/keras/src/layers/convolutional/base_conv.py:107: UserWarning: Do not pass an `input_shape`/`input_dim` argument to a layer. When using Sequential models, prefer using an `Input(shape)` object as the first layer in the model instead.\n",
      "  super().__init__(activity_regularizer=activity_regularizer, **kwargs)\n"
     ]
    }
   ],
   "source": [
    "encoder = models.Sequential([\n",
    "    layers.Conv2D(64, (5, 5), kernel_initializer=\"he_normal\", padding='same', data_format='channels_first', input_shape=(3, x_end, y_end)),\n",
    "    layers.BatchNormalization(axis=1),\n",
    "    layers.Activation('relu'),\n",
    "    layers.Dropout(0.3),\n",
    "    layers.MaxPooling2D((2, 2), padding='same', data_format='channels_first'),\n",
    "    layers.Conv2D(128, (5, 5), kernel_initializer=\"he_normal\", padding='same', data_format='channels_first'),\n",
    "    layers.BatchNormalization(axis=1),\n",
    "    layers.Activation('relu'),\n",
    "    layers.Dropout(0.3),\n",
    "    layers.MaxPooling2D((2, 2), padding='same', data_format='channels_first'),\n",
    "    layers.Conv2D(256, (3, 3), kernel_initializer=\"he_normal\", padding='same', data_format='channels_first'),\n",
    "    layers.BatchNormalization(axis=1),\n",
    "    layers.Activation('relu'),\n",
    "    layers.Dropout(0.3),\n",
    "    layers.MaxPooling2D((2, 2), padding='same', data_format='channels_first'),\n",
    "    layers.Conv2D(300, (3, 3), kernel_initializer=\"he_normal\", padding='same', data_format='channels_first'),\n",
    "    layers.BatchNormalization(axis=1),\n",
    "    layers.Activation('relu'),\n",
    "    layers.Dropout(0.3),\n",
    "    layers.MaxPooling2D((2, 2), padding='same', data_format='channels_first')\n",
    "])\n",
    "\n",
    "decoder = models.Sequential([\n",
    "    layers.Conv2D(300, (3, 3), kernel_initializer=\"he_normal\", padding='same', data_format='channels_first'),\n",
    "    layers.BatchNormalization(axis=1),\n",
    "    layers.Activation('relu'),\n",
    "    layers.Dropout(0.3),\n",
    "    layers.UpSampling2D((2, 2), data_format='channels_first'),\n",
    "    layers.Conv2D(256, (3, 3), kernel_initializer=\"he_normal\", padding='same', data_format='channels_first'),\n",
    "    layers.BatchNormalization(axis=1),\n",
    "    layers.Activation('relu'),\n",
    "    layers.Dropout(0.3),\n",
    "    layers.UpSampling2D((2, 2), data_format='channels_first'),\n",
    "    layers.Conv2D(128, (3, 3), kernel_initializer=\"he_normal\", padding='same', data_format='channels_first'),\n",
    "    layers.BatchNormalization(axis=1),\n",
    "    layers.Activation('relu'),\n",
    "    layers.Dropout(0.3),\n",
    "    layers.UpSampling2D((2, 2), data_format='channels_first'),\n",
    "    layers.Conv2D(64, (3, 3), kernel_initializer=\"he_normal\", padding='same', data_format='channels_first'),\n",
    "    layers.BatchNormalization(axis=1),\n",
    "    layers.Activation('relu'),\n",
    "    layers.Dropout(0.3),\n",
    "    layers.UpSampling2D((2, 2), data_format='channels_first'),\n",
    "    layers.Conv2D(3, (3, 3), activation='sigmoid', kernel_initializer=\"he_normal\", padding='same', data_format='channels_first')\n",
    "])\n",
    "\n",
    "autoencoder2 = models.Sequential([encoder, decoder])\n",
    "\n",
    "autoencoder2.compile(\n",
    "    loss='mean_squared_error',\n",
    "    optimizer=tf.keras.optimizers.Adam(learning_rate=0.001)\n",
    ")"
   ]
  },
  {
   "cell_type": "code",
   "execution_count": null,
   "metadata": {},
   "outputs": [
    {
     "name": "stdout",
     "output_type": "stream",
     "text": [
      "Epoch 1/10\n",
      "\u001b[1m75/75\u001b[0m \u001b[32m━━━━━━━━━━━━━━━━━━━━\u001b[0m\u001b[37m\u001b[0m \u001b[1m1159s\u001b[0m 15s/step - loss: 0.0275 - val_loss: 0.0158\n",
      "Epoch 2/10\n",
      "\u001b[1m24/75\u001b[0m \u001b[32m━━━━━━\u001b[0m\u001b[37m━━━━━━━━━━━━━━\u001b[0m \u001b[1m12:24\u001b[0m 15s/step - loss: 0.0036"
     ]
    }
   ],
   "source": [
    "history = autoencoder2.fit(x_train,x_train, epochs=10, batch_size=10, validation_data=[x_test,x_test])"
   ]
  },
  {
   "cell_type": "code",
   "execution_count": null,
   "metadata": {},
   "outputs": [],
   "source": [
    "#printa imagem original, imagem recuperada e imagem esperada\n",
    "\n",
    "index=15\n",
    "\n",
    "\n",
    "prediction=autoencoder2.predict(np.expand_dims(x_test[index]))\n",
    "plt.figure(figsize=(12, 6))\n",
    "\n",
    "for j in range(3):\n",
    "    # Exibir a imagem original\n",
    "    plt.subplot(3, 3, j*3+0)\n",
    "    plt.imshow(x_test[index][j], cmap='gray')  # Adapte o cmap se necessário\n",
    "    plt.title('Original Image')\n",
    "    plt.axis('off')  # Desliga os eixos\n",
    "    plt.tight_layout()\n",
    "\n",
    "    #Exibir Imagem esperada\n",
    "    plt.subplot(2, 2, j*3+1)\n",
    "    plt.imshow(y_test[index][j], cmap='gray')  # Adapte o cmap se necessário\n",
    "    plt.title('Expected image')\n",
    "    plt.axis('off')  # Desliga os eixos\n",
    "    # Mostrar as imagens\n",
    "    plt.tight_layout()\n",
    "\n",
    "    plt.subplot(2, 2, j*3+2)\n",
    "    plt.imshow(prediction[0][j], cmap='gray')  # Adapte o cmap se necessário\n",
    "    plt.title('Model 2 reconstruction')\n",
    "    plt.axis('off')  # Desliga os eixos\n",
    "    # Mostrar as imagens\n",
    "    plt.tight_layout()\n",
    "\n",
    "plt.show()\n"
   ]
  }
 ],
 "metadata": {
  "kernelspec": {
   "display_name": "Python 3",
   "language": "python",
   "name": "python3"
  },
  "language_info": {
   "codemirror_mode": {
    "name": "ipython",
    "version": 3
   },
   "file_extension": ".py",
   "mimetype": "text/x-python",
   "name": "python",
   "nbconvert_exporter": "python",
   "pygments_lexer": "ipython3",
   "version": "3.12.3"
  }
 },
 "nbformat": 4,
 "nbformat_minor": 2
}
