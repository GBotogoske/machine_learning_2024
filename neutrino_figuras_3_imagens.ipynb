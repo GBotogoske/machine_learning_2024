{
 "cells": [
  {
   "cell_type": "code",
   "execution_count": 1,
   "metadata": {},
   "outputs": [
    {
     "name": "stderr",
     "output_type": "stream",
     "text": [
      "2024-10-17 06:53:59.417230: I tensorflow/core/util/port.cc:153] oneDNN custom operations are on. You may see slightly different numerical results due to floating-point round-off errors from different computation orders. To turn them off, set the environment variable `TF_ENABLE_ONEDNN_OPTS=0`.\n",
      "2024-10-17 06:53:59.429222: I external/local_xla/xla/tsl/cuda/cudart_stub.cc:32] Could not find cuda drivers on your machine, GPU will not be used.\n",
      "2024-10-17 06:53:59.519309: I external/local_xla/xla/tsl/cuda/cudart_stub.cc:32] Could not find cuda drivers on your machine, GPU will not be used.\n",
      "2024-10-17 06:53:59.611307: E external/local_xla/xla/stream_executor/cuda/cuda_fft.cc:485] Unable to register cuFFT factory: Attempting to register factory for plugin cuFFT when one has already been registered\n",
      "2024-10-17 06:53:59.714801: E external/local_xla/xla/stream_executor/cuda/cuda_dnn.cc:8454] Unable to register cuDNN factory: Attempting to register factory for plugin cuDNN when one has already been registered\n",
      "2024-10-17 06:53:59.739067: E external/local_xla/xla/stream_executor/cuda/cuda_blas.cc:1452] Unable to register cuBLAS factory: Attempting to register factory for plugin cuBLAS when one has already been registered\n",
      "2024-10-17 06:53:59.874851: I tensorflow/core/platform/cpu_feature_guard.cc:210] This TensorFlow binary is optimized to use available CPU instructions in performance-critical operations.\n",
      "To enable the following instructions: AVX2 AVX_VNNI FMA, in other operations, rebuild TensorFlow with the appropriate compiler flags.\n",
      "2024-10-17 06:54:01.663654: W tensorflow/compiler/tf2tensorrt/utils/py_utils.cc:38] TF-TRT Warning: Could not find TensorRT\n"
     ]
    }
   ],
   "source": [
    "from PIL import Image\n",
    "import numpy as np\n",
    "import matplotlib.pyplot as plt\n",
    "import os\n",
    "from sklearn.model_selection import train_test_split\n",
    "import tensorflow as tf\n",
    "from tensorflow.keras import datasets, layers, models\n",
    "from scipy.ndimage import grey_dilation"
   ]
  },
  {
   "cell_type": "code",
   "execution_count": 30,
   "metadata": {},
   "outputs": [],
   "source": [
    "#vamos aprende ler uma colecao de figuras\n",
    "\n",
    "#Listar arquivos .png na pasta atual\n",
    "current_directory = os.getcwd()+\"/figuras/\"\n",
    "\n",
    "event_files=[[f for f in os.listdir(current_directory) if (f.endswith('.png') and (\"event\" in f) and (\"nue\" in f) and (\"plane_\"+str(i) in f))]\n",
    "              for i in range(3)]\n",
    "for i in range(3):\n",
    "    event_files[i]=sorted(event_files[i])\n",
    "\n",
    "\n",
    "hit_files=[[f for f in os.listdir(current_directory) if (f.endswith('.png') and (\"hit\" in f) and (\"nue\" in f) and (\"plane_\"+str(i) in f))]\n",
    "              for i in range(3)]\n",
    "for i in range(3):\n",
    "    hit_files[i]=sorted(hit_files[i])"
   ]
  },
  {
   "cell_type": "code",
   "execution_count": 55,
   "metadata": {},
   "outputs": [],
   "source": [
    "#selecionando figuras aleatorias\n",
    "\n",
    "n_figuras=1000\n",
    "n_total=len(event_files[0])\n",
    "\n",
    "random=np.random.choice(n_total,n_figuras,replace=False)\n",
    "\n",
    "x=[[] for _ in range(3)]\n",
    "y=[[] for _ in range(3)]\n",
    "\n",
    "#x_end=128#188\n",
    "#y_end=512#610\n",
    "\n",
    "structure = np.ones((3, 3), dtype=np.uint8)  # Elemento estruturante 3x3\n",
    "\n",
    "for j in range(n_figuras):\n",
    "    for index in range(3):\n",
    "        x[index].append(np.divide(grey_dilation(np.array(Image.open(current_directory+event_files[index][random[j]]).convert('L'), dtype=np.uint8),footprint=structure),215))\n",
    "        y[index].append(np.divide(np.array(Image.open(current_directory+hit_files[index][random[j]]).convert('L')),215))\n",
    "    #y.append(x[j])"
   ]
  }
 ],
 "metadata": {
  "kernelspec": {
   "display_name": "Python 3",
   "language": "python",
   "name": "python3"
  },
  "language_info": {
   "codemirror_mode": {
    "name": "ipython",
    "version": 3
   },
   "file_extension": ".py",
   "mimetype": "text/x-python",
   "name": "python",
   "nbconvert_exporter": "python",
   "pygments_lexer": "ipython3",
   "version": "3.12.3"
  }
 },
 "nbformat": 4,
 "nbformat_minor": 2
}
