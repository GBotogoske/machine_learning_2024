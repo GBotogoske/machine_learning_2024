{
 "cells": [
  {
   "cell_type": "code",
   "execution_count": 11,
   "metadata": {},
   "outputs": [],
   "source": [
    "#vamos aprende ler uma colecao de figuras\n",
    "import os\n",
    "\n",
    "# Listar arquivos .png na pasta atual\n",
    "current_directory = os.getcwd()+\"/figuras/\"\n",
    "event_files = [f for f in os.listdir(current_directory) if (f.endswith('.png') and \"event\" in f)]\n",
    "hit_files=[f for f in os.listdir(current_directory) if (f.endswith('.png') and \"hit\" in f)]\n",
    "\n",
    "event_files=sorted(event_files)\n",
    "hit_files=sorted(hit_files)"
   ]
  },
  {
   "cell_type": "code",
   "execution_count": 12,
   "metadata": {},
   "outputs": [],
   "source": [
    "from PIL import Image\n",
    "n_figuras=10000\n",
    "\n",
    "img = Image.open(current_directory+event_files[0]).convert('L')\n"
   ]
  }
 ],
 "metadata": {
  "kernelspec": {
   "display_name": "Python 3",
   "language": "python",
   "name": "python3"
  },
  "language_info": {
   "codemirror_mode": {
    "name": "ipython",
    "version": 3
   },
   "file_extension": ".py",
   "mimetype": "text/x-python",
   "name": "python",
   "nbconvert_exporter": "python",
   "pygments_lexer": "ipython3",
   "version": "3.12.3"
  }
 },
 "nbformat": 4,
 "nbformat_minor": 2
}
