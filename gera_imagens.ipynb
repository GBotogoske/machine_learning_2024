{
 "cells": [
  {
   "cell_type": "code",
   "execution_count": 48,
   "metadata": {},
   "outputs": [],
   "source": [
    "import numpy as np\n",
    "import matplotlib.pyplot as plt\n",
    "from microboone_utils import *\n",
    "import pandas as pd\n",
    "from h5py import File"
   ]
  },
  {
   "cell_type": "code",
   "execution_count": 49,
   "metadata": {},
   "outputs": [],
   "source": [
    "#abre o arquivo\n",
    "f = File('/home/gabriel/Downloads/bnb_WithWire_00.h5','r')"
   ]
  },
  {
   "cell_type": "code",
   "execution_count": 50,
   "metadata": {},
   "outputs": [
    {
     "data": {
      "text/plain": [
       "['edep_table',\n",
       " 'event_table',\n",
       " 'hit_table',\n",
       " 'opflash_table',\n",
       " 'opflashsumpe_table',\n",
       " 'ophit_table',\n",
       " 'pandoraHit_table',\n",
       " 'pandoraPfp_table',\n",
       " 'pandoraPrimary_table',\n",
       " 'particle_table',\n",
       " 'wire_table']"
      ]
     },
     "execution_count": 50,
     "metadata": {},
     "output_type": "execute_result"
    }
   ],
   "source": [
    "#mostra todas as tabelas disponiveis no arquivo .h5 aberto\n",
    "\n",
    "labels=[]\n",
    "sub_labels=[]\n",
    "for lines in f:\n",
    "        labels.append(lines)\n",
    "        aux=[]\n",
    "        for key in f[lines]:\n",
    "            aux.append(key)\n",
    "        sub_labels.append(aux)\n",
    "labels"
   ]
  },
  {
   "cell_type": "code",
   "execution_count": 51,
   "metadata": {},
   "outputs": [
    {
     "data": {
      "text/html": [
       "<div>\n",
       "<style scoped>\n",
       "    .dataframe tbody tr th:only-of-type {\n",
       "        vertical-align: middle;\n",
       "    }\n",
       "\n",
       "    .dataframe tbody tr th {\n",
       "        vertical-align: top;\n",
       "    }\n",
       "\n",
       "    .dataframe thead th {\n",
       "        text-align: right;\n",
       "    }\n",
       "</style>\n",
       "<table border=\"1\" class=\"dataframe\">\n",
       "  <thead>\n",
       "    <tr style=\"text-align: right;\">\n",
       "      <th></th>\n",
       "      <th>run</th>\n",
       "      <th>subrun</th>\n",
       "      <th>event</th>\n",
       "    </tr>\n",
       "  </thead>\n",
       "  <tbody>\n",
       "    <tr>\n",
       "      <th>0</th>\n",
       "      <td>7004</td>\n",
       "      <td>331</td>\n",
       "      <td>16551</td>\n",
       "    </tr>\n",
       "    <tr>\n",
       "      <th>1</th>\n",
       "      <td>7004</td>\n",
       "      <td>331</td>\n",
       "      <td>16552</td>\n",
       "    </tr>\n",
       "    <tr>\n",
       "      <th>2</th>\n",
       "      <td>7004</td>\n",
       "      <td>331</td>\n",
       "      <td>16553</td>\n",
       "    </tr>\n",
       "    <tr>\n",
       "      <th>3</th>\n",
       "      <td>7004</td>\n",
       "      <td>331</td>\n",
       "      <td>16554</td>\n",
       "    </tr>\n",
       "    <tr>\n",
       "      <th>4</th>\n",
       "      <td>7004</td>\n",
       "      <td>331</td>\n",
       "      <td>16555</td>\n",
       "    </tr>\n",
       "    <tr>\n",
       "      <th>...</th>\n",
       "      <td>...</td>\n",
       "      <td>...</td>\n",
       "      <td>...</td>\n",
       "    </tr>\n",
       "    <tr>\n",
       "      <th>1080</th>\n",
       "      <td>7020</td>\n",
       "      <td>1439</td>\n",
       "      <td>72000</td>\n",
       "    </tr>\n",
       "    <tr>\n",
       "      <th>1081</th>\n",
       "      <td>5078</td>\n",
       "      <td>78</td>\n",
       "      <td>3904</td>\n",
       "    </tr>\n",
       "    <tr>\n",
       "      <th>1082</th>\n",
       "      <td>5078</td>\n",
       "      <td>78</td>\n",
       "      <td>3916</td>\n",
       "    </tr>\n",
       "    <tr>\n",
       "      <th>1083</th>\n",
       "      <td>5078</td>\n",
       "      <td>78</td>\n",
       "      <td>3941</td>\n",
       "    </tr>\n",
       "    <tr>\n",
       "      <th>1084</th>\n",
       "      <td>5078</td>\n",
       "      <td>78</td>\n",
       "      <td>3947</td>\n",
       "    </tr>\n",
       "  </tbody>\n",
       "</table>\n",
       "<p>1085 rows × 3 columns</p>\n",
       "</div>"
      ],
      "text/plain": [
       "       run  subrun  event\n",
       "0     7004     331  16551\n",
       "1     7004     331  16552\n",
       "2     7004     331  16553\n",
       "3     7004     331  16554\n",
       "4     7004     331  16555\n",
       "...    ...     ...    ...\n",
       "1080  7020    1439  72000\n",
       "1081  5078      78   3904\n",
       "1082  5078      78   3916\n",
       "1083  5078      78   3941\n",
       "1084  5078      78   3947\n",
       "\n",
       "[1085 rows x 3 columns]"
      ]
     },
     "execution_count": 51,
     "metadata": {},
     "output_type": "execute_result"
    }
   ],
   "source": [
    "#montar uma tavela dos eventos disponiveis na file\n",
    "size=len(f[labels[1]][\"event_id\"][:])\n",
    "\n",
    "names_event=[\"run\",\"subrun\",\"event\"]\n",
    "names_event_values=[[] for _ in range(len(names_event))]\n",
    "for i in range(size):\n",
    "    for j in range(len(names_event)):\n",
    "        names_event_values[j].append(f[labels[1]][\"event_id\"][i][j])\n",
    "\n",
    "temp_dict = {}\n",
    "for i, name in enumerate(names_event):\n",
    "    temp_dict[name] = names_event_values[i]\n",
    "\n",
    "\n",
    "event_table_pd = pd.DataFrame(temp_dict)\n",
    "names_event_values.clear()    \n",
    "event_table_pd"
   ]
  },
  {
   "cell_type": "code",
   "execution_count": 52,
   "metadata": {},
   "outputs": [],
   "source": [
    "my_index=0\n",
    "this_run=event_table_pd[\"run\"][my_index]\n",
    "this_subrun=event_table_pd[\"subrun\"][my_index]\n",
    "this_event=event_table_pd[\"event\"][my_index]\n",
    "\n",
    "evt_id = [this_run, this_subrun, this_event]"
   ]
  },
  {
   "cell_type": "code",
   "execution_count": 55,
   "metadata": {},
   "outputs": [],
   "source": [
    "wire_table=f[labels[10]]\n",
    "event_wire_plan=wire_table[\"event_id\"][:]\n",
    "names_event=[\"run\",\"subrun\",\"event\"]\n",
    "names_event_values=[[] for _ in range(len(names_event))]\n",
    "for i in range(max):\n",
    "    for j in range(len(names_event)):\n",
    "        names_event_values[j].append(wire_table[\"event_id\"][i][j])\n",
    "temp_dict = {}\n",
    "for i, name in enumerate(names_event):\n",
    "    temp_dict[name] = names_event_values[i]\n",
    "temp_table=pd.DataFrame(temp_dict)"
   ]
  },
  {
   "cell_type": "code",
   "execution_count": 56,
   "metadata": {},
   "outputs": [
    {
     "data": {
      "text/html": [
       "<div>\n",
       "<style scoped>\n",
       "    .dataframe tbody tr th:only-of-type {\n",
       "        vertical-align: middle;\n",
       "    }\n",
       "\n",
       "    .dataframe tbody tr th {\n",
       "        vertical-align: top;\n",
       "    }\n",
       "\n",
       "    .dataframe thead th {\n",
       "        text-align: right;\n",
       "    }\n",
       "</style>\n",
       "<table border=\"1\" class=\"dataframe\">\n",
       "  <thead>\n",
       "    <tr style=\"text-align: right;\">\n",
       "      <th></th>\n",
       "      <th>run</th>\n",
       "      <th>subrun</th>\n",
       "      <th>event</th>\n",
       "    </tr>\n",
       "  </thead>\n",
       "  <tbody>\n",
       "    <tr>\n",
       "      <th>0</th>\n",
       "      <td>7004</td>\n",
       "      <td>331</td>\n",
       "      <td>16551</td>\n",
       "    </tr>\n",
       "    <tr>\n",
       "      <th>1</th>\n",
       "      <td>7004</td>\n",
       "      <td>331</td>\n",
       "      <td>16551</td>\n",
       "    </tr>\n",
       "    <tr>\n",
       "      <th>2</th>\n",
       "      <td>7004</td>\n",
       "      <td>331</td>\n",
       "      <td>16551</td>\n",
       "    </tr>\n",
       "    <tr>\n",
       "      <th>3</th>\n",
       "      <td>7004</td>\n",
       "      <td>331</td>\n",
       "      <td>16551</td>\n",
       "    </tr>\n",
       "    <tr>\n",
       "      <th>4</th>\n",
       "      <td>7004</td>\n",
       "      <td>331</td>\n",
       "      <td>16551</td>\n",
       "    </tr>\n",
       "    <tr>\n",
       "      <th>...</th>\n",
       "      <td>...</td>\n",
       "      <td>...</td>\n",
       "      <td>...</td>\n",
       "    </tr>\n",
       "    <tr>\n",
       "      <th>19995</th>\n",
       "      <td>7004</td>\n",
       "      <td>331</td>\n",
       "      <td>16553</td>\n",
       "    </tr>\n",
       "    <tr>\n",
       "      <th>19996</th>\n",
       "      <td>7004</td>\n",
       "      <td>331</td>\n",
       "      <td>16553</td>\n",
       "    </tr>\n",
       "    <tr>\n",
       "      <th>19997</th>\n",
       "      <td>7004</td>\n",
       "      <td>331</td>\n",
       "      <td>16553</td>\n",
       "    </tr>\n",
       "    <tr>\n",
       "      <th>19998</th>\n",
       "      <td>7004</td>\n",
       "      <td>331</td>\n",
       "      <td>16553</td>\n",
       "    </tr>\n",
       "    <tr>\n",
       "      <th>19999</th>\n",
       "      <td>7004</td>\n",
       "      <td>331</td>\n",
       "      <td>16553</td>\n",
       "    </tr>\n",
       "  </tbody>\n",
       "</table>\n",
       "<p>20000 rows × 3 columns</p>\n",
       "</div>"
      ],
      "text/plain": [
       "        run  subrun  event\n",
       "0      7004     331  16551\n",
       "1      7004     331  16551\n",
       "2      7004     331  16551\n",
       "3      7004     331  16551\n",
       "4      7004     331  16551\n",
       "...     ...     ...    ...\n",
       "19995  7004     331  16553\n",
       "19996  7004     331  16553\n",
       "19997  7004     331  16553\n",
       "19998  7004     331  16553\n",
       "19999  7004     331  16553\n",
       "\n",
       "[20000 rows x 3 columns]"
      ]
     },
     "execution_count": 56,
     "metadata": {},
     "output_type": "execute_result"
    }
   ],
   "source": [
    "temp_table"
   ]
  },
  {
   "cell_type": "code",
   "execution_count": 60,
   "metadata": {},
   "outputs": [
    {
     "data": {
      "text/plain": [
       "Index([   0,    1,    2,    3,    4,    5,    6,    7,    8,    9,\n",
       "       ...\n",
       "       8246, 8247, 8248, 8249, 8250, 8251, 8252, 8253, 8254, 8255],\n",
       "      dtype='int64', length=8256)"
      ]
     },
     "execution_count": 60,
     "metadata": {},
     "output_type": "execute_result"
    }
   ],
   "source": [
    "temp_table.index[(temp_table[\"run\"]==evt_id[0]) & (temp_table[\"subrun\"]==evt_id[1]) & (temp_table[\"event\"]==evt_id[2]) ]"
   ]
  },
  {
   "cell_type": "code",
   "execution_count": 20,
   "metadata": {},
   "outputs": [],
   "source": [
    "#montar a tabela de wire\n",
    "\n",
    "max=20000 #tentar ver depois como pegar evento por evento melhor!!!!\n",
    "\n",
    "wire_table=f[labels[10]]\n",
    "event_wire_plan=wire_table[\"event_id\"][0:max]\n",
    "local_plane = wire_table[\"local_plane\"][0:max]\n",
    "adc=wire_table[\"adc\"][0:max]\n",
    "adc = [adc.tolist() for adc in adc]\n",
    "\n",
    "names_event=[\"run\",\"subrun\",\"event\"]\n",
    "names_event_values=[[] for _ in range(len(names_event))]\n",
    "for i in range(max):\n",
    "    for j in range(len(names_event)):\n",
    "        names_event_values[j].append(wire_table[\"event_id\"][i][j])\n",
    "\n",
    "temp_dict = {}\n",
    "for i, name in enumerate(names_event):\n",
    "    temp_dict[name] = names_event_values[i]\n",
    "\n",
    "temp_dict[\"local_plane\"]=local_plane.flatten()\n",
    "temp_dict[\"adc\"]=adc\n",
    "\n",
    "\n",
    "wire_table_pd = pd.DataFrame(temp_dict)\n",
    "\n",
    "adc.clear()\n",
    "event_wire_plan=None\n",
    "local_plane=None\n",
    "wire_table=None"
   ]
  },
  {
   "cell_type": "code",
   "execution_count": 21,
   "metadata": {},
   "outputs": [],
   "source": [
    "#vamos filtar por eventos, depois esse bloco tem que ser um for, junto com a parte de cima ... uhmmm\n",
    "wire_table_pd=wire_table_pd.query(\"run==@this_run and subrun==@this_subrun and event==@this_event\")"
   ]
  },
  {
   "cell_type": "code",
   "execution_count": 22,
   "metadata": {},
   "outputs": [],
   "source": [
    "planeadcs=[]\n",
    "for p in range(0,nplanes()):\n",
    "    table_aux=wire_table_pd.query(\"local_plane==@p\")\n",
    "    aux=[]\n",
    "    for j in range(len(table_aux)):\n",
    "        aux.append(table_aux.iloc(0)[j][\"adc\"])\n",
    "    planeadcs.append(np.array(aux))\n",
    "\n",
    "wire_table_pd=wire_table_pd.drop(columns=\"adc\")"
   ]
  },
  {
   "cell_type": "code",
   "execution_count": 23,
   "metadata": {},
   "outputs": [],
   "source": [
    "from skimage.measure import block_reduce\n",
    "f_downsample = 6\n",
    "for p in range(0,nplanes()):\n",
    "    planeadcs[p] = block_reduce(planeadcs[p], block_size=(1,f_downsample), func=np.sum)\n",
    "\n",
    "adccutoff = 10.*f_downsample/6.\n",
    "adcsaturation = 100.*f_downsample/6.\n",
    "for p in range(0,nplanes()):\n",
    "    planeadcs[p][planeadcs[p]<adccutoff] = 0\n",
    "    planeadcs[p][planeadcs[p]>adcsaturation] = adcsaturation"
   ]
  },
  {
   "cell_type": "code",
   "execution_count": 29,
   "metadata": {},
   "outputs": [
    {
     "name": "stdout",
     "output_type": "stream",
     "text": [
      "Run / Sub / Event : 7004 / 331 / 16552 - saturation set to ADC sum=100.00\n"
     ]
    },
    {
     "data": {
      "text/plain": [
       "<Figure size 640x480 with 0 Axes>"
      ]
     },
     "metadata": {},
     "output_type": "display_data"
    }
   ],
   "source": [
    "zmax = adcsaturation\n",
    "\n",
    "print(\"Run / Sub / Event : %i / %i / %i - saturation set to ADC sum=%.2f\" % (evt_id[0], evt_id[1], evt_id[2], zmax))\n",
    "\n",
    "# Plota a primeira imagem\n",
    "plt.imshow(planeadcs[0].T, vmin=0, vmax=zmax, origin='lower', cmap='jet')\n",
    "# Salva a primeira imagem\n",
    "plt.tight_layout()\n",
    "plt.savefig(f\"./figuras/event_{evt_id[0]}_{evt_id[1]}_{evt_id[2]}_plane_0.png\", bbox_inches='tight')\n",
    "plt.clf()  # Limpa a figura para a próxima imagem\n",
    "\n",
    "# Plota a segunda imagem\n",
    "plt.imshow(planeadcs[1].T, vmin=0, vmax=zmax, origin='lower', cmap='jet')\n",
    "# Salva a segunda imagem\n",
    "plt.tight_layout()\n",
    "plt.savefig(f\"./figuras/event_{evt_id[0]}_{evt_id[1]}_{evt_id[2]}_plane_1.png\", bbox_inches='tight')\n",
    "plt.clf()  # Limpa a figura para a próxima imagem\n",
    "\n",
    "# Plota a terceira imagem\n",
    "plt.imshow(planeadcs[2].T, vmin=0, vmax=zmax, origin='lower', cmap='jet')\n",
    "# Salva a terceira imagem\n",
    "plt.tight_layout()\n",
    "plt.savefig(f\"./figuras/event_{evt_id[0]}_{evt_id[1]}_{evt_id[2]}_plane_2.png\", bbox_inches='tight')\n",
    "plt.clf()  # Limpa a figura para a próxima imagem\n"
   ]
  }
 ],
 "metadata": {
  "kernelspec": {
   "display_name": "Python 3",
   "language": "python",
   "name": "python3"
  },
  "language_info": {
   "codemirror_mode": {
    "name": "ipython",
    "version": 3
   },
   "file_extension": ".py",
   "mimetype": "text/x-python",
   "name": "python",
   "nbconvert_exporter": "python",
   "pygments_lexer": "ipython3",
   "version": "3.12.3"
  }
 },
 "nbformat": 4,
 "nbformat_minor": 2
}
